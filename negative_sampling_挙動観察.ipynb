{
 "cells": [
  {
   "cell_type": "markdown",
   "id": "ce5e473d",
   "metadata": {},
   "source": [
    "# negative_sampling の挙動観察\n",
    "目的：`torch_geometric.utils.negatie_sampling` の挙動を調べる"
   ]
  },
  {
   "cell_type": "code",
   "execution_count": 1,
   "id": "bdff94f0",
   "metadata": {},
   "outputs": [],
   "source": [
    "import torch_geometric"
   ]
  },
  {
   "cell_type": "markdown",
   "id": "f3bb5f26",
   "metadata": {},
   "source": [
    "---\n",
    "## 適当なグラフを与え，negative_sampling を実行する"
   ]
  },
  {
   "cell_type": "code",
   "execution_count": 3,
   "id": "da25a42b",
   "metadata": {},
   "outputs": [],
   "source": [
    "# 適当なグラフを作る\n",
    "import torch\n",
    "from torch_geometric.data import Data\n",
    "\n",
    "edge_index = torch.tensor([[0, 1, 1, 2],\n",
    "                           [1, 0, 2, 1]]) #, dtype=torch.long)\n",
    "x = torch.tensor([[-1], [0], [1]]) #, dtype=torch.float)\n",
    "\n",
    "data = Data(x=x, edge_index=edge_index)"
   ]
  },
  {
   "cell_type": "code",
   "execution_count": 4,
   "id": "ad7292fa",
   "metadata": {},
   "outputs": [
    {
     "data": {
      "text/plain": [
       "Data(x=[3, 1], edge_index=[2, 4])"
      ]
     },
     "execution_count": 4,
     "metadata": {},
     "output_type": "execute_result"
    }
   ],
   "source": [
    "data"
   ]
  },
  {
   "cell_type": "code",
   "execution_count": 8,
   "id": "738330a3",
   "metadata": {},
   "outputs": [
    {
     "data": {
      "text/plain": [
       "tensor([[0, 2],\n",
       "        [2, 0]])"
      ]
     },
     "execution_count": 8,
     "metadata": {},
     "output_type": "execute_result"
    }
   ],
   "source": [
    "# ネガティブサンプリング\n",
    "from torch_geometric.utils import negative_sampling\n",
    "\n",
    "negative_sampling(edge_index=data.edge_index, num_nodes=data.num_nodes,\n",
    "                  num_neg_samples=None, method='sparse')"
   ]
  },
  {
   "cell_type": "markdown",
   "id": "a5238a3e",
   "metadata": {},
   "source": [
    "---\n",
    "## ノードが４つのグラフを作る\n",
    "`edge_index` は `negative_sampling` のソースコードに掲載されている例を用いる\n",
    "\n",
    "https://pytorch-geometric.readthedocs.io/en/latest/_modules/torch_geometric/utils/negative_sampling.html"
   ]
  },
  {
   "cell_type": "code",
   "execution_count": 9,
   "id": "ea610c80",
   "metadata": {},
   "outputs": [],
   "source": [
    "# 適当なグラフを作る\n",
    "edge_index = torch.as_tensor([[0, 0, 1, 2],\n",
    "                              [0, 1, 2, 3]])\n",
    "x = torch.tensor([[-1], [0], [1], [2]])\n",
    "data = Data(x=x, edge_index=edge_index)"
   ]
  },
  {
   "cell_type": "code",
   "execution_count": 10,
   "id": "250a9158",
   "metadata": {},
   "outputs": [
    {
     "data": {
      "text/plain": [
       "tensor([[2, 0, 1, 2],\n",
       "        [0, 3, 3, 1]])"
      ]
     },
     "execution_count": 10,
     "metadata": {},
     "output_type": "execute_result"
    }
   ],
   "source": [
    "# ネガティブサンプリング\n",
    "negative_sampling(edge_index=data.edge_index, num_nodes=data.num_nodes,\n",
    "                  num_neg_samples=None, method='sparse')"
   ]
  },
  {
   "cell_type": "code",
   "execution_count": 13,
   "id": "acbbf3b0",
   "metadata": {},
   "outputs": [
    {
     "data": {
      "text/plain": [
       "tensor([[1, 1, 0, 3],\n",
       "        [0, 3, 3, 0]])"
      ]
     },
     "execution_count": 13,
     "metadata": {},
     "output_type": "execute_result"
    }
   ],
   "source": [
    "negative_sampling(edge_index=data.edge_index, num_nodes=data.num_nodes,\n",
    "                  num_neg_samples=None, method='sparse')"
   ]
  },
  {
   "cell_type": "markdown",
   "id": "4f7fc6ca",
   "metadata": {},
   "source": [
    "---\n",
    "要は，グラフに存在しないエッジを（適当な本数だけ）生成するのが negative_sampling と思える。\n",
    "\n",
    "`num_neg_samples` は，生成したいエッジの個数を指定する。\n",
    "`num_neg_samples=None` とすると，適当な(approximate)値がセットされる。\n",
    "\n",
    "method に指定できるのは 'sprase' と 'dense’の２通り (default:'sparse'。  \n",
    "negative_sampling のソースコードによると\n",
    "- \"sparse\" : will work on any graph of any size, while\n",
    "- \"dense\" :  can perform faster true-negative checks.\n",
    "            \n",
    "            "
   ]
  },
  {
   "cell_type": "code",
   "execution_count": null,
   "id": "7b005e67",
   "metadata": {},
   "outputs": [],
   "source": []
  }
 ],
 "metadata": {
  "kernelspec": {
   "display_name": "Python 3 (ipykernel)",
   "language": "python",
   "name": "python3"
  },
  "language_info": {
   "codemirror_mode": {
    "name": "ipython",
    "version": 3
   },
   "file_extension": ".py",
   "mimetype": "text/x-python",
   "name": "python",
   "nbconvert_exporter": "python",
   "pygments_lexer": "ipython3",
   "version": "3.8.13"
  }
 },
 "nbformat": 4,
 "nbformat_minor": 5
}
