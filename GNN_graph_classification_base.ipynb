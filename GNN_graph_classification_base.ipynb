{
 "cells": [
  {
   "cell_type": "markdown",
   "id": "51ec4148",
   "metadata": {},
   "source": [
    "# GNN : グラフの分類\n",
    "フェイクニュース検出を題材として，\n",
    "データセットに UPFD (The tree-structured fake news propagation graph classification dataset) を用いる。\n",
    "\n",
    "https://pytorch-geometric.readthedocs.io/en/latest/modules/datasets.html#torch_geometric.datasets.UPFD\n",
    "\n",
    "流れは以下のとおり：\n",
    "1. データセットの読み込み\n",
    "1. 学習・テストデータへの分割 ＆ DataLoader の定義\n",
    "1. ネットワークの定義\n",
    "1. ネットワークの学習\n",
    "1. ネットワークのテスト\n",
    "1. 正解率および損失の可視化"
   ]
  },
  {
   "cell_type": "code",
   "execution_count": 1,
   "id": "aee62cdf",
   "metadata": {},
   "outputs": [
    {
     "data": {
      "text/plain": [
       "1092"
      ]
     },
     "execution_count": 1,
     "metadata": {},
     "output_type": "execute_result"
    }
   ],
   "source": [
    "# データセットの読み込み\n",
    "from torch_geometric.datasets import UPFD\n",
    "# dataset = UPFD(root='.', name='politifact', feature='profile') # 2 class, 10 dimension\n",
    "# dataset = UPFD(root='.', name='politifact', feature='bert') # 2 class, 768 dimension\n",
    "dataset = UPFD(root='.', name='gossipcop', feature='bert') # 2 class, 768 dimension\n",
    "len(dataset)"
   ]
  },
  {
   "cell_type": "code",
   "execution_count": 2,
   "id": "4a4e90b7",
   "metadata": {},
   "outputs": [
    {
     "name": "stdout",
     "output_type": "stream",
     "text": [
      "2\n",
      "768\n"
     ]
    }
   ],
   "source": [
    "# クラス数 ＆ ノードの有する特徴の次元をチェック\n",
    "print(dataset.num_classes)\n",
    "print(dataset.num_node_features)"
   ]
  },
  {
   "cell_type": "code",
   "execution_count": 3,
   "id": "1d0ac1de",
   "metadata": {},
   "outputs": [
    {
     "data": {
      "text/plain": [
       "tensor([[-0.0848, -0.2643, -0.2449,  ..., -0.1209,  0.1636,  0.4188],\n",
       "        [ 0.1415, -0.0493, -0.1443,  ...,  0.4186, -0.0096,  0.2688],\n",
       "        [-0.0319,  0.0562,  0.4386,  ...,  0.2217,  0.0694,  0.6907],\n",
       "        ...,\n",
       "        [ 0.0231,  0.1641,  0.0682,  ...,  0.4842,  0.0395,  0.8409],\n",
       "        [-0.0714,  0.1860,  0.1526,  ...,  0.4669, -0.1010,  0.5712],\n",
       "        [ 0.0569,  0.1775,  0.1596,  ...,  0.5712,  0.0127,  0.5610]])"
      ]
     },
     "execution_count": 3,
     "metadata": {},
     "output_type": "execute_result"
    }
   ],
   "source": [
    "# (参考) １つ目のグラフの特徴ベクトル\n",
    "dataset[0].x"
   ]
  },
  {
   "cell_type": "code",
   "execution_count": 4,
   "id": "a008b35a",
   "metadata": {},
   "outputs": [],
   "source": [
    "# データセットの分割 ＆ DataLoader の定義\n",
    "from torch_geometric.loader import DataLoader\n",
    "\n",
    "dataset = dataset.shuffle()  # データセットｎシャッフル\n",
    "train_size = int(len(dataset) * 0.8)\n",
    "dataset_train = dataset[:train_size]  # 訓練用データセット\n",
    "dataset_test = dataset[train_size:]  # テスト用データセット\n",
    "\n",
    "batch_size = 16  # バッチサイズ\n",
    "loader_train = DataLoader(dataset_train, batch_size=batch_size, shuffle=True)\n",
    "loader_test = DataLoader(dataset_test, batch_size=batch_size, shuffle=False)"
   ]
  },
  {
   "cell_type": "code",
   "execution_count": 5,
   "id": "d101d279",
   "metadata": {},
   "outputs": [
    {
     "data": {
      "text/plain": [
       "GCN(\n",
       "  (conv1): GCNConv(768, 64)\n",
       "  (conv2): GCNConv(64, 64)\n",
       "  (fc): Linear(in_features=64, out_features=2, bias=True)\n",
       "  (relu): ReLU()\n",
       "  (dropout): Dropout(p=0.2, inplace=False)\n",
       ")"
      ]
     },
     "execution_count": 5,
     "metadata": {},
     "output_type": "execute_result"
    }
   ],
   "source": [
    "# モデルの定義 ＆ インスタンス化\n",
    "import torch\n",
    "import torch.nn as nn\n",
    "from torch_geometric.nn import GCNConv\n",
    "from torch_geometric.nn import global_mean_pool\n",
    "\n",
    "n_h = 64  # 中間層における特徴量の数\n",
    "\n",
    "class GCN(nn.Module):\n",
    "    def __init__(self):\n",
    "        super().__init__()\n",
    "        self.conv1 = GCNConv(dataset.num_node_features, n_h)\n",
    "        self.conv2 = GCNConv(n_h, n_h)\n",
    "        self.fc = nn.Linear(n_h, dataset.num_classes)  # 全結合層\n",
    "\n",
    "        self.relu = nn.ReLU()  # 活性化関数 ReLU\n",
    "        self.dropout = nn.Dropout(p=0.2)  # ドロップアウト\n",
    "\n",
    "    def forward(self, data):\n",
    "        x = data.x\n",
    "        edge_index = data.edge_index\n",
    "        batch = data.batch\n",
    "\n",
    "        # GCNConv.forward() の第１引数は特徴ベクトル，第２引数は edge_index\n",
    "        x = self.conv1(x, edge_index)\n",
    "        x = self.relu(x)\n",
    "        x = self.conv2(x, edge_index)\n",
    "        x = self.relu(x)\n",
    "\n",
    "        # 全てのノードで各特徴量の平均をとる\n",
    "        x = global_mean_pool(x, batch)  # shape を(バッチサイズ, 特徴量の数)に変換\n",
    "\n",
    "        x = self.dropout(x)\n",
    "        x = self.fc(x)\n",
    "        \n",
    "        return x\n",
    "\n",
    "device = device = \"cuda\" if torch.cuda.is_available() else \"cpu\"\n",
    "\n",
    "net = GCN()\n",
    "net.to(device)"
   ]
  },
  {
   "cell_type": "code",
   "execution_count": 6,
   "id": "7a6d87fb",
   "metadata": {},
   "outputs": [
    {
     "name": "stdout",
     "output_type": "stream",
     "text": [
      "Epoch: 10 acc_train: 0.86368843069874 acc_test: 0.8264840182648402\n",
      "Epoch: 20 acc_train: 0.9415807560137457 acc_test: 0.863013698630137\n",
      "Epoch: 30 acc_train: 0.9679266895761741 acc_test: 0.867579908675799\n",
      "Epoch: 40 acc_train: 0.9908361970217641 acc_test: 0.8584474885844748\n",
      "Epoch: 50 acc_train: 1.0 acc_test: 0.863013698630137\n",
      "Epoch: 60 acc_train: 1.0 acc_test: 0.8721461187214612\n",
      "Epoch: 70 acc_train: 1.0 acc_test: 0.8721461187214612\n",
      "Epoch: 80 acc_train: 1.0 acc_test: 0.867579908675799\n",
      "Epoch: 90 acc_train: 1.0 acc_test: 0.8538812785388128\n",
      "Epoch: 100 acc_train: 1.0 acc_test: 0.8447488584474886\n",
      "Epoch: 110 acc_train: 1.0 acc_test: 0.8584474885844748\n",
      "Epoch: 120 acc_train: 1.0 acc_test: 0.8584474885844748\n",
      "Epoch: 130 acc_train: 1.0 acc_test: 0.8584474885844748\n",
      "Epoch: 140 acc_train: 1.0 acc_test: 0.8584474885844748\n",
      "Epoch: 150 acc_train: 1.0 acc_test: 0.8493150684931506\n",
      "Epoch: 160 acc_train: 1.0 acc_test: 0.8584474885844748\n",
      "Epoch: 170 acc_train: 1.0 acc_test: 0.8538812785388128\n",
      "Epoch: 180 acc_train: 0.9919816723940436 acc_test: 0.8812785388127854\n",
      "Epoch: 190 acc_train: 1.0 acc_test: 0.867579908675799\n",
      "Epoch: 200 acc_train: 1.0 acc_test: 0.8767123287671232\n"
     ]
    }
   ],
   "source": [
    "# ネットワークの学習\n",
    "\n",
    "def eval(loader):\n",
    "    correct = 0  # 正解数\n",
    "\n",
    "    for data in loader:\n",
    "        data = data.to(device)\n",
    "        out = net(data)  \n",
    "        pred = out.argmax(dim=1)\n",
    "        correct += int((pred == data.y).sum())\n",
    "\n",
    "    return correct/len(loader.dataset)  # 正解率\n",
    "\n",
    "from torch import optim\n",
    "\n",
    "# 交差エントロピー誤差関数\n",
    "loss_fnc = nn.CrossEntropyLoss()\n",
    "\n",
    "# 最適化アルゴリズム\n",
    "optimizer = optim.Adam(net.parameters())\n",
    "\n",
    "train_acc_log = list()\n",
    "test_acc_log = list()\n",
    "train_loss_log = list()\n",
    "\n",
    "for epoch in range(200):\n",
    "    # 訓練\n",
    "    net.train()  # 訓練モード\n",
    "    for data in loader_train: \n",
    "        data = data.to(device)\n",
    "\n",
    "        optimizer.zero_grad()  # 勾配の初期化\n",
    "        out = net(data)  # 順伝播により予測値を得る\n",
    "        loss = loss_fnc(out, data.y)  # 予測値と正解値から損失を計算\n",
    "\n",
    "        train_loss_log.append(loss.item()) # (メモ) Tensor から値を取り出すため item() を使用\n",
    "        \n",
    "        loss.backward()  # 損失からバックプロパゲーションにより勾配を計算\n",
    "        optimizer.step()  # 最適化アルゴリズムによりパラメータを更新\n",
    "\n",
    "    # 評価\n",
    "    net.eval()  # 評価モード\n",
    "    acc_train = eval(loader_train)\n",
    "    acc_test = eval(loader_test)\n",
    "    if (epoch + 1) % 10 == 0:\n",
    "        print(\"Epoch:\", epoch+1,\n",
    "              \"acc_train:\", acc_train,\n",
    "              \"acc_test:\", acc_test)\n",
    "    train_acc_log.append(acc_train)\n",
    "    test_acc_log.append(acc_test)"
   ]
  },
  {
   "cell_type": "code",
   "execution_count": 7,
   "id": "adcac79f",
   "metadata": {},
   "outputs": [
    {
     "name": "stdout",
     "output_type": "stream",
     "text": [
      "accuracy: 0.8767123287671232\n"
     ]
    }
   ],
   "source": [
    "# テストデータセットの評価\n",
    "net.eval()  # 評価モード\n",
    "acc_test = eval(loader_test)\n",
    "print(\"accuracy:\", acc_test)"
   ]
  },
  {
   "cell_type": "code",
   "execution_count": 8,
   "id": "3be708e3",
   "metadata": {},
   "outputs": [
    {
     "data": {
      "image/png": "[encoded data removed]",
      "text/plain": [
       "<Figure size 432x288 with 1 Axes>"
      ]
     },
     "metadata": {
      "needs_background": "light"
     },
     "output_type": "display_data"
    }
   ],
   "source": [
    "# 正解率の可視化\n",
    "import matplotlib.pyplot as plt\n",
    "\n",
    "plt.plot(train_acc_log, label=\"train accuracy\")\n",
    "plt.plot(test_acc_log, label=\"test accuracy\")\n",
    "plt.title(\"accuracy\")\n",
    "plt.legend()\n",
    "plt.show()"
   ]
  },
  {
   "cell_type": "code",
   "execution_count": 9,
   "id": "da9dff7b",
   "metadata": {},
   "outputs": [
    {
     "data": {
      "image/png": "[encoded data removed]",
      "text/plain": [
       "<Figure size 432x288 with 1 Axes>"
      ]
     },
     "metadata": {
      "needs_background": "light"
     },
     "output_type": "display_data"
    }
   ],
   "source": [
    "# 損失の可視化\n",
    "import matplotlib.pyplot as plt\n",
    "\n",
    "plt.plot(train_loss_log, label=\"train accuracy\")\n",
    "plt.title(\"loss\")\n",
    "plt.show()"
   ]
  },
  {
   "cell_type": "code",
   "execution_count": null,
   "id": "c141d637",
   "metadata": {},
   "outputs": [],
   "source": []
  }
 ],
 "metadata": {
  "kernelspec": {
   "display_name": "Python 3 (ipykernel)",
   "language": "python",
   "name": "python3"
  },
  "language_info": {
   "codemirror_mode": {
    "name": "ipython",
    "version": 3
   },
   "file_extension": ".py",
   "mimetype": "text/x-python",
   "name": "python",
   "nbconvert_exporter": "python",
   "pygments_lexer": "ipython3",
   "version": "3.8.13"
  }
 },
 "nbformat": 4,
 "nbformat_minor": 5
}
